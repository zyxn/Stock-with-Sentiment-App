{
 "cells": [
  {
   "cell_type": "code",
   "execution_count": 1,
   "metadata": {},
   "outputs": [],
   "source": [
    "import sys\n",
    "import os\n",
    "\n",
    "# Dapatkan path untuk folder Process relatif terhadap folder Experiments\n",
    "process_path = os.path.join(os.path.dirname(os.path.dirname(os.path.abspath('Experiments'))), 'Process')\n",
    "\n",
    "# Tambahkan path Process ke sys.path\n",
    "if process_path not in sys.path:\n",
    "    sys.path.append(process_path)\n"
   ]
  },
  {
   "cell_type": "code",
   "execution_count": 2,
   "metadata": {},
   "outputs": [],
   "source": [
    "from Dataproc import Dataproc, DatasetConfig"
   ]
  },
  {
   "cell_type": "code",
   "execution_count": 3,
   "metadata": {},
   "outputs": [],
   "source": [
    "config = DatasetConfig(\n",
    "        file_path=r\"..\\Dataset\\Stock\\IHSG_Stock_Clean.csv\",\n",
    "        file_path_sentiment=r\"..\\Dataset\\News\\News_Kompas.csv\",\n",
    "        split_ratio=0.8,\n",
    "        n_in=10,\n",
    "        n_out=1,\n",
    "        drop_columns=True,\n",
    "        drop_columns_list=[\"Change%\", \"Volume\"],  # Kolom yang akan di-drop\n",
    "        start_date=\"2014-01-03\",\n",
    "        end_date=\"2024-08-06\"\n",
    "    )\n",
    "\n",
    "    \n"
   ]
  },
  {
   "cell_type": "code",
   "execution_count": 4,
   "metadata": {},
   "outputs": [],
   "source": [
    "dataproc = Dataproc(config)\n",
    "sentiment = dataproc.DATA_SENTIMENT\n",
    "data = dataproc.DATA"
   ]
  },
  {
   "cell_type": "code",
   "execution_count": 5,
   "metadata": {},
   "outputs": [],
   "source": [
    "# no_sentiment_data = sentiment[sentiment['sentimen_skor'].isnull()]"
   ]
  },
  {
   "cell_type": "code",
   "execution_count": 6,
   "metadata": {},
   "outputs": [
    {
     "data": {
      "text/html": [
       "<div>\n",
       "<style scoped>\n",
       "    .dataframe tbody tr th:only-of-type {\n",
       "        vertical-align: middle;\n",
       "    }\n",
       "\n",
       "    .dataframe tbody tr th {\n",
       "        vertical-align: top;\n",
       "    }\n",
       "\n",
       "    .dataframe thead th {\n",
       "        text-align: right;\n",
       "    }\n",
       "</style>\n",
       "<table border=\"1\" class=\"dataframe\">\n",
       "  <thead>\n",
       "    <tr style=\"text-align: right;\">\n",
       "      <th></th>\n",
       "      <th>judul</th>\n",
       "      <th>link</th>\n",
       "      <th>isi</th>\n",
       "      <th>sentimen_berita</th>\n",
       "      <th>skor_sentimen</th>\n",
       "      <th>keypoint_berita</th>\n",
       "      <th>top_3_words</th>\n",
       "    </tr>\n",
       "    <tr>\n",
       "      <th>tanggal</th>\n",
       "      <th></th>\n",
       "      <th></th>\n",
       "      <th></th>\n",
       "      <th></th>\n",
       "      <th></th>\n",
       "      <th></th>\n",
       "      <th></th>\n",
       "    </tr>\n",
       "  </thead>\n",
       "  <tbody>\n",
       "    <tr>\n",
       "      <th>2013-05-21</th>\n",
       "      <td>IHSG Bakal Hadapi Tekanan Ambil Untung</td>\n",
       "      <td>https://money.kompas.com/read/2013/05/21/08175...</td>\n",
       "      <td>IHSG Bakal Hadapi Tekanan Ambil Untung  IHSG B...</td>\n",
       "      <td>negatif</td>\n",
       "      <td>-0.5</td>\n",
       "      <td>IHSG diperkirakan akan menghadapi tekanan ambi...</td>\n",
       "      <td>[IHSG, tekanan, saham]</td>\n",
       "    </tr>\n",
       "    <tr>\n",
       "      <th>2013-05-21</th>\n",
       "      <td>Proyeksi IHSG di Rentang 5.185-5.235</td>\n",
       "      <td>https://money.kompas.com/read/2013/05/21/08270...</td>\n",
       "      <td>Proyeksi IHSG di Rentang 5.185-5.235 Proyeksi ...</td>\n",
       "      <td>positif</td>\n",
       "      <td>0.7</td>\n",
       "      <td>IHSG diperkirakan akan bergerak di rentang 5.1...</td>\n",
       "      <td>[IHSG, Dow, stimulus]</td>\n",
       "    </tr>\n",
       "    <tr>\n",
       "      <th>2013-05-21</th>\n",
       "      <td>IHSG Dibuka Naik di Tengah Pelemahan Asia</td>\n",
       "      <td>https://money.kompas.com/read/2013/05/21/09212...</td>\n",
       "      <td>IHSG Dibuka Naik di Tengah Pelemahan Asia IHSG...</td>\n",
       "      <td>positif</td>\n",
       "      <td>0.6</td>\n",
       "      <td>IHSG dibuka naik 12,531 poin atau 0,24 persen ...</td>\n",
       "      <td>[IHSG, naik, bursa]</td>\n",
       "    </tr>\n",
       "    <tr>\n",
       "      <th>2013-05-21</th>\n",
       "      <td>Bursa Regional Merah, IHSG Turun 29 Poin</td>\n",
       "      <td>https://money.kompas.com/read/2013/05/21/13042...</td>\n",
       "      <td>Bursa Regional Merah, IHSG Turun 29 Poin Bursa...</td>\n",
       "      <td>negatif</td>\n",
       "      <td>-0.6</td>\n",
       "      <td>IHSG turun 29,15 poin (0,56 persen) ke 5.185,8...</td>\n",
       "      <td>[IHSG, turun, sektor]</td>\n",
       "    </tr>\n",
       "    <tr>\n",
       "      <th>2013-05-21</th>\n",
       "      <td>Asing Lepas Saham, IHSG Melorot 26 Poin</td>\n",
       "      <td>https://money.kompas.com/read/2013/05/21/16354...</td>\n",
       "      <td>Asing Lepas Saham, IHSG Melorot 26 Poin Asing ...</td>\n",
       "      <td>negatif</td>\n",
       "      <td>-0.5</td>\n",
       "      <td>IHSG turun 26,22 poin di tengah mayoritas burs...</td>\n",
       "      <td>[IHSG, saham, turun]</td>\n",
       "    </tr>\n",
       "  </tbody>\n",
       "</table>\n",
       "</div>"
      ],
      "text/plain": [
       "                                                judul  \\\n",
       "tanggal                                                 \n",
       "2013-05-21    IHSG Bakal Hadapi Tekanan Ambil Untung    \n",
       "2013-05-21       Proyeksi IHSG di Rentang 5.185-5.235   \n",
       "2013-05-21  IHSG Dibuka Naik di Tengah Pelemahan Asia   \n",
       "2013-05-21   Bursa Regional Merah, IHSG Turun 29 Poin   \n",
       "2013-05-21    Asing Lepas Saham, IHSG Melorot 26 Poin   \n",
       "\n",
       "                                                         link  \\\n",
       "tanggal                                                         \n",
       "2013-05-21  https://money.kompas.com/read/2013/05/21/08175...   \n",
       "2013-05-21  https://money.kompas.com/read/2013/05/21/08270...   \n",
       "2013-05-21  https://money.kompas.com/read/2013/05/21/09212...   \n",
       "2013-05-21  https://money.kompas.com/read/2013/05/21/13042...   \n",
       "2013-05-21  https://money.kompas.com/read/2013/05/21/16354...   \n",
       "\n",
       "                                                          isi sentimen_berita  \\\n",
       "tanggal                                                                         \n",
       "2013-05-21  IHSG Bakal Hadapi Tekanan Ambil Untung  IHSG B...         negatif   \n",
       "2013-05-21  Proyeksi IHSG di Rentang 5.185-5.235 Proyeksi ...         positif   \n",
       "2013-05-21  IHSG Dibuka Naik di Tengah Pelemahan Asia IHSG...         positif   \n",
       "2013-05-21  Bursa Regional Merah, IHSG Turun 29 Poin Bursa...         negatif   \n",
       "2013-05-21  Asing Lepas Saham, IHSG Melorot 26 Poin Asing ...         negatif   \n",
       "\n",
       "            skor_sentimen                                    keypoint_berita  \\\n",
       "tanggal                                                                        \n",
       "2013-05-21           -0.5  IHSG diperkirakan akan menghadapi tekanan ambi...   \n",
       "2013-05-21            0.7  IHSG diperkirakan akan bergerak di rentang 5.1...   \n",
       "2013-05-21            0.6  IHSG dibuka naik 12,531 poin atau 0,24 persen ...   \n",
       "2013-05-21           -0.6  IHSG turun 29,15 poin (0,56 persen) ke 5.185,8...   \n",
       "2013-05-21           -0.5  IHSG turun 26,22 poin di tengah mayoritas burs...   \n",
       "\n",
       "                       top_3_words  \n",
       "tanggal                             \n",
       "2013-05-21  [IHSG, tekanan, saham]  \n",
       "2013-05-21   [IHSG, Dow, stimulus]  \n",
       "2013-05-21     [IHSG, naik, bursa]  \n",
       "2013-05-21   [IHSG, turun, sektor]  \n",
       "2013-05-21    [IHSG, saham, turun]  "
      ]
     },
     "execution_count": 6,
     "metadata": {},
     "output_type": "execute_result"
    }
   ],
   "source": [
    "sentiment.head()"
   ]
  },
  {
   "cell_type": "code",
   "execution_count": 7,
   "metadata": {},
   "outputs": [
    {
     "data": {
      "text/html": [
       "<div>\n",
       "<style scoped>\n",
       "    .dataframe tbody tr th:only-of-type {\n",
       "        vertical-align: middle;\n",
       "    }\n",
       "\n",
       "    .dataframe tbody tr th {\n",
       "        vertical-align: top;\n",
       "    }\n",
       "\n",
       "    .dataframe thead th {\n",
       "        text-align: right;\n",
       "    }\n",
       "</style>\n",
       "<table border=\"1\" class=\"dataframe\">\n",
       "  <thead>\n",
       "    <tr style=\"text-align: right;\">\n",
       "      <th></th>\n",
       "      <th>skor_sentimen</th>\n",
       "    </tr>\n",
       "    <tr>\n",
       "      <th>tanggal</th>\n",
       "      <th></th>\n",
       "    </tr>\n",
       "  </thead>\n",
       "  <tbody>\n",
       "    <tr>\n",
       "      <th>2013-05-21</th>\n",
       "      <td>-0.5</td>\n",
       "    </tr>\n",
       "    <tr>\n",
       "      <th>2013-05-21</th>\n",
       "      <td>0.7</td>\n",
       "    </tr>\n",
       "    <tr>\n",
       "      <th>2013-05-21</th>\n",
       "      <td>0.6</td>\n",
       "    </tr>\n",
       "    <tr>\n",
       "      <th>2013-05-21</th>\n",
       "      <td>-0.6</td>\n",
       "    </tr>\n",
       "    <tr>\n",
       "      <th>2013-05-21</th>\n",
       "      <td>-0.5</td>\n",
       "    </tr>\n",
       "    <tr>\n",
       "      <th>...</th>\n",
       "      <td>...</td>\n",
       "    </tr>\n",
       "    <tr>\n",
       "      <th>2024-08-05</th>\n",
       "      <td>-0.7</td>\n",
       "    </tr>\n",
       "    <tr>\n",
       "      <th>2024-08-06</th>\n",
       "      <td>-0.7</td>\n",
       "    </tr>\n",
       "    <tr>\n",
       "      <th>2024-08-06</th>\n",
       "      <td>0.7</td>\n",
       "    </tr>\n",
       "    <tr>\n",
       "      <th>2024-08-06</th>\n",
       "      <td>0.8</td>\n",
       "    </tr>\n",
       "    <tr>\n",
       "      <th>2024-08-06</th>\n",
       "      <td>-0.7</td>\n",
       "    </tr>\n",
       "  </tbody>\n",
       "</table>\n",
       "<p>5539 rows × 1 columns</p>\n",
       "</div>"
      ],
      "text/plain": [
       "            skor_sentimen\n",
       "tanggal                  \n",
       "2013-05-21           -0.5\n",
       "2013-05-21            0.7\n",
       "2013-05-21            0.6\n",
       "2013-05-21           -0.6\n",
       "2013-05-21           -0.5\n",
       "...                   ...\n",
       "2024-08-05           -0.7\n",
       "2024-08-06           -0.7\n",
       "2024-08-06            0.7\n",
       "2024-08-06            0.8\n",
       "2024-08-06           -0.7\n",
       "\n",
       "[5539 rows x 1 columns]"
      ]
     },
     "execution_count": 7,
     "metadata": {},
     "output_type": "execute_result"
    }
   ],
   "source": [
    "sentiment = sentiment[['skor_sentimen']]\n",
    "sentiment"
   ]
  },
  {
   "cell_type": "code",
   "execution_count": 8,
   "metadata": {},
   "outputs": [
    {
     "name": "stdout",
     "output_type": "stream",
     "text": [
      "            skor_sentimen\n",
      "tanggal                  \n",
      "2013-05-21            NaN\n",
      "2013-05-21            NaN\n",
      "2013-05-21            NaN\n",
      "2013-05-21            NaN\n",
      "2013-05-21            NaN\n",
      "...                   ...\n",
      "2024-08-05            NaN\n",
      "2024-08-06            NaN\n",
      "2024-08-06            NaN\n",
      "2024-08-06            NaN\n",
      "2024-08-06            NaN\n",
      "\n",
      "[5539 rows x 1 columns]\n"
     ]
    }
   ],
   "source": [
    "print(sentiment[sentiment.isna()])"
   ]
  },
  {
   "cell_type": "code",
   "execution_count": 10,
   "metadata": {},
   "outputs": [
    {
     "data": {
      "text/html": [
       "<div>\n",
       "<style scoped>\n",
       "    .dataframe tbody tr th:only-of-type {\n",
       "        vertical-align: middle;\n",
       "    }\n",
       "\n",
       "    .dataframe tbody tr th {\n",
       "        vertical-align: top;\n",
       "    }\n",
       "\n",
       "    .dataframe thead th {\n",
       "        text-align: right;\n",
       "    }\n",
       "</style>\n",
       "<table border=\"1\" class=\"dataframe\">\n",
       "  <thead>\n",
       "    <tr style=\"text-align: right;\">\n",
       "      <th></th>\n",
       "      <th>tanggal</th>\n",
       "      <th>skor_sentimen</th>\n",
       "    </tr>\n",
       "  </thead>\n",
       "  <tbody>\n",
       "    <tr>\n",
       "      <th>0</th>\n",
       "      <td>2013-05-21</td>\n",
       "      <td>-0.060000</td>\n",
       "    </tr>\n",
       "    <tr>\n",
       "      <th>1</th>\n",
       "      <td>2013-05-22</td>\n",
       "      <td>0.400000</td>\n",
       "    </tr>\n",
       "    <tr>\n",
       "      <th>2</th>\n",
       "      <td>2013-05-23</td>\n",
       "      <td>-0.666667</td>\n",
       "    </tr>\n",
       "    <tr>\n",
       "      <th>3</th>\n",
       "      <td>2013-05-24</td>\n",
       "      <td>-0.600000</td>\n",
       "    </tr>\n",
       "    <tr>\n",
       "      <th>4</th>\n",
       "      <td>2013-05-27</td>\n",
       "      <td>-0.475000</td>\n",
       "    </tr>\n",
       "    <tr>\n",
       "      <th>...</th>\n",
       "      <td>...</td>\n",
       "      <td>...</td>\n",
       "    </tr>\n",
       "    <tr>\n",
       "      <th>2111</th>\n",
       "      <td>2024-08-01</td>\n",
       "      <td>0.533333</td>\n",
       "    </tr>\n",
       "    <tr>\n",
       "      <th>2112</th>\n",
       "      <td>2024-08-02</td>\n",
       "      <td>-0.233333</td>\n",
       "    </tr>\n",
       "    <tr>\n",
       "      <th>2113</th>\n",
       "      <td>2024-08-04</td>\n",
       "      <td>0.700000</td>\n",
       "    </tr>\n",
       "    <tr>\n",
       "      <th>2114</th>\n",
       "      <td>2024-08-05</td>\n",
       "      <td>-0.600000</td>\n",
       "    </tr>\n",
       "    <tr>\n",
       "      <th>2115</th>\n",
       "      <td>2024-08-06</td>\n",
       "      <td>0.025000</td>\n",
       "    </tr>\n",
       "  </tbody>\n",
       "</table>\n",
       "<p>2116 rows × 2 columns</p>\n",
       "</div>"
      ],
      "text/plain": [
       "        tanggal  skor_sentimen\n",
       "0    2013-05-21      -0.060000\n",
       "1    2013-05-22       0.400000\n",
       "2    2013-05-23      -0.666667\n",
       "3    2013-05-24      -0.600000\n",
       "4    2013-05-27      -0.475000\n",
       "...         ...            ...\n",
       "2111 2024-08-01       0.533333\n",
       "2112 2024-08-02      -0.233333\n",
       "2113 2024-08-04       0.700000\n",
       "2114 2024-08-05      -0.600000\n",
       "2115 2024-08-06       0.025000\n",
       "\n",
       "[2116 rows x 2 columns]"
      ]
     },
     "execution_count": 10,
     "metadata": {},
     "output_type": "execute_result"
    }
   ],
   "source": [
    "df_avg_sentimen = sentiment.groupby(\"tanggal\")[\"skor_sentimen\"].mean().reset_index()\n",
    "df_avg_sentimen"
   ]
  },
  {
   "cell_type": "code",
   "execution_count": 11,
   "metadata": {},
   "outputs": [],
   "source": [
    "df_avg_sentimen[df_avg_sentimen[\"skor_sentimen\"].isna()]\n",
    "df_avg_sentimen_clean = df_avg_sentimen.dropna(subset=[\"skor_sentimen\"])"
   ]
  },
  {
   "cell_type": "code",
   "execution_count": 16,
   "metadata": {},
   "outputs": [],
   "source": [
    "df_avg_sentimen_clean.set_index(\"tanggal\", inplace=True)"
   ]
  },
  {
   "cell_type": "code",
   "execution_count": 17,
   "metadata": {},
   "outputs": [],
   "source": [
    "import pandas as pd\n",
    "hasil = pd.merge(\n",
    "            data,\n",
    "            df_avg_sentimen_clean,\n",
    "            how=\"left\",\n",
    "            left_index=True,\n",
    "            right_index=True,\n",
    "        )"
   ]
  },
  {
   "cell_type": "code",
   "execution_count": 22,
   "metadata": {},
   "outputs": [],
   "source": [
    "hasil[\"skor_sentimen\"] = hasil[\"skor_sentimen\"].ffill()"
   ]
  },
  {
   "cell_type": "code",
   "execution_count": 24,
   "metadata": {},
   "outputs": [
    {
     "data": {
      "text/plain": [
       "0"
      ]
     },
     "execution_count": 24,
     "metadata": {},
     "output_type": "execute_result"
    }
   ],
   "source": [
    "hasil[\"skor_sentimen\"].isna().sum()"
   ]
  },
  {
   "cell_type": "code",
   "execution_count": null,
   "metadata": {},
   "outputs": [],
   "source": []
  }
 ],
 "metadata": {
  "kernelspec": {
   "display_name": "base",
   "language": "python",
   "name": "python3"
  },
  "language_info": {
   "codemirror_mode": {
    "name": "ipython",
    "version": 3
   },
   "file_extension": ".py",
   "mimetype": "text/x-python",
   "name": "python",
   "nbconvert_exporter": "python",
   "pygments_lexer": "ipython3",
   "version": "3.11.5"
  }
 },
 "nbformat": 4,
 "nbformat_minor": 2
}
