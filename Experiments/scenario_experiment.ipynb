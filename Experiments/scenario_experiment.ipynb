{
 "cells": [
  {
   "cell_type": "code",
   "execution_count": 1,
   "metadata": {},
   "outputs": [],
   "source": [
    "import pandas as pd"
   ]
  },
  {
   "cell_type": "code",
   "execution_count": 3,
   "metadata": {},
   "outputs": [],
   "source": [
    "df = pd.read_csv(\"../Dataset/Stock/Supervised_data.csv\")"
   ]
  },
  {
   "cell_type": "code",
   "execution_count": 5,
   "metadata": {},
   "outputs": [
    {
     "data": {
      "text/plain": [
       "Index(['Date', 'Close(t-10)', 'Open(t-10)', 'High(t-10)', 'Low(t-10)',\n",
       "       'Sentiment_Score(t-10)', 'Close(t-9)', 'Open(t-9)', 'High(t-9)',\n",
       "       'Low(t-9)', 'Sentiment_Score(t-9)', 'Close(t-8)', 'Open(t-8)',\n",
       "       'High(t-8)', 'Low(t-8)', 'Sentiment_Score(t-8)', 'Close(t-7)',\n",
       "       'Open(t-7)', 'High(t-7)', 'Low(t-7)', 'Sentiment_Score(t-7)',\n",
       "       'Close(t-6)', 'Open(t-6)', 'High(t-6)', 'Low(t-6)',\n",
       "       'Sentiment_Score(t-6)', 'Close(t-5)', 'Open(t-5)', 'High(t-5)',\n",
       "       'Low(t-5)', 'Sentiment_Score(t-5)', 'Close(t-4)', 'Open(t-4)',\n",
       "       'High(t-4)', 'Low(t-4)', 'Sentiment_Score(t-4)', 'Close(t-3)',\n",
       "       'Open(t-3)', 'High(t-3)', 'Low(t-3)', 'Sentiment_Score(t-3)',\n",
       "       'Close(t-2)', 'Open(t-2)', 'High(t-2)', 'Low(t-2)',\n",
       "       'Sentiment_Score(t-2)', 'Close(t-1)', 'Open(t-1)', 'High(t-1)',\n",
       "       'Low(t-1)', 'Sentiment_Score(t-1)', 'Close(t)', 'Open(t)', 'High(t)',\n",
       "       'Low(t)', 'Sentiment_Score(t)'],\n",
       "      dtype='object')"
      ]
     },
     "execution_count": 5,
     "metadata": {},
     "output_type": "execute_result"
    }
   ],
   "source": [
    "df.columns"
   ]
  },
  {
   "cell_type": "code",
   "execution_count": 6,
   "metadata": {},
   "outputs": [],
   "source": [
    "sentiment_columns = [col for col in df.columns if col.startswith('Sentiment_Score(t-')]\n",
    "\n",
    "# Hitung sum dari kolom-kolom tersebut dan bagi dengan 2\n",
    "df['Sigma_Sentiment'] = df[sentiment_columns].sum(axis=1) / 2"
   ]
  },
  {
   "cell_type": "code",
   "execution_count": 8,
   "metadata": {},
   "outputs": [
    {
     "data": {
      "text/html": [
       "<div>\n",
       "<style scoped>\n",
       "    .dataframe tbody tr th:only-of-type {\n",
       "        vertical-align: middle;\n",
       "    }\n",
       "\n",
       "    .dataframe tbody tr th {\n",
       "        vertical-align: top;\n",
       "    }\n",
       "\n",
       "    .dataframe thead th {\n",
       "        text-align: right;\n",
       "    }\n",
       "</style>\n",
       "<table border=\"1\" class=\"dataframe\">\n",
       "  <thead>\n",
       "    <tr style=\"text-align: right;\">\n",
       "      <th></th>\n",
       "      <th>Date</th>\n",
       "      <th>Sigma_Sentiment</th>\n",
       "    </tr>\n",
       "  </thead>\n",
       "  <tbody>\n",
       "    <tr>\n",
       "      <th>0</th>\n",
       "      <td>2014-01-20</td>\n",
       "      <td>-0.333333</td>\n",
       "    </tr>\n",
       "    <tr>\n",
       "      <th>1</th>\n",
       "      <td>2014-01-21</td>\n",
       "      <td>0.666667</td>\n",
       "    </tr>\n",
       "    <tr>\n",
       "      <th>2</th>\n",
       "      <td>2014-01-22</td>\n",
       "      <td>1.333333</td>\n",
       "    </tr>\n",
       "    <tr>\n",
       "      <th>3</th>\n",
       "      <td>2014-01-23</td>\n",
       "      <td>1.666667</td>\n",
       "    </tr>\n",
       "    <tr>\n",
       "      <th>4</th>\n",
       "      <td>2014-01-24</td>\n",
       "      <td>2.000000</td>\n",
       "    </tr>\n",
       "    <tr>\n",
       "      <th>...</th>\n",
       "      <td>...</td>\n",
       "      <td>...</td>\n",
       "    </tr>\n",
       "    <tr>\n",
       "      <th>2564</th>\n",
       "      <td>2024-07-31</td>\n",
       "      <td>-1.833333</td>\n",
       "    </tr>\n",
       "    <tr>\n",
       "      <th>2565</th>\n",
       "      <td>2024-08-01</td>\n",
       "      <td>-2.333333</td>\n",
       "    </tr>\n",
       "    <tr>\n",
       "      <th>2566</th>\n",
       "      <td>2024-08-02</td>\n",
       "      <td>-2.000000</td>\n",
       "    </tr>\n",
       "    <tr>\n",
       "      <th>2567</th>\n",
       "      <td>2024-08-05</td>\n",
       "      <td>-2.000000</td>\n",
       "    </tr>\n",
       "    <tr>\n",
       "      <th>2568</th>\n",
       "      <td>2024-08-06</td>\n",
       "      <td>-2.000000</td>\n",
       "    </tr>\n",
       "  </tbody>\n",
       "</table>\n",
       "<p>2569 rows × 2 columns</p>\n",
       "</div>"
      ],
      "text/plain": [
       "            Date  Sigma_Sentiment\n",
       "0     2014-01-20        -0.333333\n",
       "1     2014-01-21         0.666667\n",
       "2     2014-01-22         1.333333\n",
       "3     2014-01-23         1.666667\n",
       "4     2014-01-24         2.000000\n",
       "...          ...              ...\n",
       "2564  2024-07-31        -1.833333\n",
       "2565  2024-08-01        -2.333333\n",
       "2566  2024-08-02        -2.000000\n",
       "2567  2024-08-05        -2.000000\n",
       "2568  2024-08-06        -2.000000\n",
       "\n",
       "[2569 rows x 2 columns]"
      ]
     },
     "execution_count": 8,
     "metadata": {},
     "output_type": "execute_result"
    }
   ],
   "source": [
    "df[[\"Date\",\"Sigma_Sentiment\"]]"
   ]
  },
  {
   "cell_type": "code",
   "execution_count": null,
   "metadata": {},
   "outputs": [],
   "source": []
  }
 ],
 "metadata": {
  "kernelspec": {
   "display_name": "base",
   "language": "python",
   "name": "python3"
  },
  "language_info": {
   "codemirror_mode": {
    "name": "ipython",
    "version": 3
   },
   "file_extension": ".py",
   "mimetype": "text/x-python",
   "name": "python",
   "nbconvert_exporter": "python",
   "pygments_lexer": "ipython3",
   "version": "3.11.5"
  }
 },
 "nbformat": 4,
 "nbformat_minor": 2
}
